{
 "cells": [
  {
   "cell_type": "markdown",
   "metadata": {},
   "source": [
    "# Домашнее задание - линейная регрессия"
   ]
  },
  {
   "cell_type": "markdown",
   "metadata": {},
   "source": [
    "### Работа с признаками (8 баллов)"
   ]
  },
  {
   "cell_type": "markdown",
   "metadata": {},
   "source": [
    "Скачайте датасет из материалов к уроку или по ссылке https://raw.githubusercontent.com/jupiterzhuo/travel-insurance/master/travel%20insurance.csv \n",
    "\n",
    "\n",
    "Описание признаков:\n",
    "\n",
    "* Agency — название страхового агентства\n",
    "* Agency Type — тип страхового агентства\n",
    "* Distribution Channel — канал продвижения страхового агентства\n",
    "* Product Name — название страхового продукта\n",
    "* Duration — длительность поездки (количество дней)\n",
    "* Destination — направление поездки\n",
    "* Net Sales — сумма продаж \n",
    "* Commission (in value) — комиссия страхового агентства\n",
    "* Gender — пол застрахованного\n",
    "* Age — возраст застрахованного\n",
    "\n",
    "Ответ:\n",
    "* Claim — потребовалась ли страховая выплата: «да» — 1, «нет» — 0"
   ]
  },
  {
   "cell_type": "markdown",
   "metadata": {},
   "source": [
    "Обработайте пропущенные значения и примените написанные функции onehot_encode() и minmax_scale().\n",
    "\n",
    "**Подсказка**: маску для категориальных признаков можно сделать фильтром cat_features_mask = (df.dtypes == \"object\").values"
   ]
  },
  {
   "cell_type": "code",
   "execution_count": 715,
   "metadata": {},
   "outputs": [],
   "source": [
    "import pandas as pd\n",
    "import numpy as np\n",
    "import matplotlib.pyplot as plt\n",
    "from sklearn.model_selection import train_test_split\n",
    "from sklearn.metrics import mean_squared_error"
   ]
  },
  {
   "cell_type": "code",
   "execution_count": 698,
   "outputs": [],
   "source": [
    "def onehot_encoding(x):\n",
    "    u = np.unique(x)\n",
    "    y = np.zeros([x.shape[0], u.shape[0]], int)\n",
    "    for i in range(len(x)):\n",
    "        y[i][np.where(u == x[i])[0][0]] = 1\n",
    "    return y"
   ],
   "metadata": {
    "collapsed": false
   }
  },
  {
   "cell_type": "code",
   "execution_count": 699,
   "outputs": [],
   "source": [
    "def minmax_scale(x):\n",
    "    if np.all(x == x[0]):\n",
    "        return np.zeros_like(x, float)\n",
    "    return (x - x.min(axis=0)) / (x.max(axis=0) - x.min(axis=0))"
   ],
   "metadata": {
    "collapsed": false
   }
  },
  {
   "cell_type": "code",
   "execution_count": 700,
   "outputs": [],
   "source": [
    "df = pd.read_csv('travel insurance.csv')\n",
    "\n",
    "df['Claim'] = np.where(df['Claim'] == 'Yes', 1, 0)\n",
    "df['Distribution Channel'] = np.where(df['Distribution Channel'] == 'Online', 1, 0)\n",
    "df['Agency Type'] = np.where(df['Agency Type'] == 'Airlines', 1, 0)\n",
    "df['Age'] = minmax_scale(df['Age'])\n",
    "\n",
    "df = df[df['Net Sales'] >= 0]\n",
    "df['Net Sales'] = minmax_scale(df['Net Sales'].to_numpy())  # Net Sales < 0??\n",
    "df = df[df['Duration'] >= 0]  # Duration < 0??\n",
    "df['Gender'][df['Gender'].isna()] = 'NB'"
   ],
   "metadata": {
    "collapsed": false
   }
  },
  {
   "cell_type": "markdown",
   "metadata": {},
   "source": [
    "Подробный анализ и подготовка датасета часто помогают улучшить качество модели. Ниже представлено несколько идей преобразований. Вы можете применить одно или несколько из этих преобразований (а можете не применять), чтобы помочь будущей модели.\n",
    "\n",
    "1. Посмотрите на количественные признаки. Возможно, в некоторых признаках есть выбросы - значения, которые сильно выбиваются. Такие значения полезно удалять. Советуем присмотреться к колонке Duration)\n",
    "\n",
    "2. Можно заметить, что one hot encoding сильно раздувает количество столбцов. Радикальное решение - можно попробовать выбросить все категориальные признаки из датасета.\n",
    "\n",
    "3. Если все-таки оставляете категориальные признаки, то подумайте, как уменьшить количество столбцов после one hot encoding. Признаки с большим количеством значений (Duration - 149! разных стран) можно удалить или попробовать сгруппировать некоторые значения.\n",
    "\n",
    "4. Downsampling. Датасет достаточно большой, разница в классах огромная. Можно уменьшить число наблюдений с частым ответом."
   ]
  },
  {
   "cell_type": "code",
   "execution_count": 701,
   "outputs": [],
   "source": [
    "# много \"мусора\"\n",
    "agencyy = (df['Agency'].value_counts() / len(df['Agency'])) >= 0.01\n",
    "df = df[df['Agency'].isin(agencyy[agencyy].index)]"
   ],
   "metadata": {
    "collapsed": false
   }
  },
  {
   "cell_type": "code",
   "execution_count": 702,
   "outputs": [],
   "source": [
    "dest = (df.Destination.value_counts() / len(df.Destination)) >= 0.01\n",
    "df = df[df.Destination.isin(dest[dest].index)]"
   ],
   "metadata": {
    "collapsed": false
   }
  },
  {
   "cell_type": "code",
   "execution_count": 703,
   "metadata": {},
   "outputs": [
    {
     "data": {
      "text/plain": "[<matplotlib.lines.Line2D at 0x338dce0e0>]"
     },
     "execution_count": 703,
     "metadata": {},
     "output_type": "execute_result"
    },
    {
     "data": {
      "text/plain": "<Figure size 640x480 with 2 Axes>",
      "image/png": "[encoded data removed]"
     },
     "metadata": {},
     "output_type": "display_data"
    }
   ],
   "source": [
    "# отбросим выбросы в Duration и Commission\n",
    "com = df['Commision (in value)'].to_numpy()\n",
    "plt.subplot(121)\n",
    "plt.plot(np.sort(com))\n",
    "\n",
    "dur = df['Duration'].to_numpy()\n",
    "plt.subplot(122)\n",
    "plt.plot(np.sort(dur))"
   ]
  },
  {
   "cell_type": "code",
   "execution_count": 704,
   "outputs": [],
   "source": [
    "df = df[df['Duration'] < 4000]\n",
    "df['Duration'] = minmax_scale(df['Duration'].to_numpy())\n",
    "\n",
    "df = df[df['Commision (in value)'] < 200]\n",
    "df['Commision (in value)'] = minmax_scale(df['Commision (in value)'].to_numpy())"
   ],
   "metadata": {
    "collapsed": false
   }
  },
  {
   "cell_type": "code",
   "execution_count": 705,
   "outputs": [
    {
     "data": {
      "text/plain": "array([[1., 1., 0., ..., 1., 0., 0.],\n       [1., 1., 0., ..., 1., 0., 0.],\n       [1., 1., 0., ..., 0., 1., 0.],\n       ...,\n       [1., 0., 0., ..., 0., 1., 0.],\n       [1., 0., 0., ..., 0., 1., 0.],\n       [1., 0., 0., ..., 1., 0., 0.]])"
     },
     "execution_count": 705,
     "metadata": {},
     "output_type": "execute_result"
    }
   ],
   "source": [
    "# one hot encoding\n",
    "res = onehot_encoding(df['Agency'].to_numpy())\n",
    "res = np.c_[res, df['Agency Type'], df['Distribution Channel']]\n",
    "res = np.c_[res, onehot_encoding(df['Product Name'].to_numpy())]\n",
    "res = np.c_[res, df['Duration']]\n",
    "res = np.c_[res, onehot_encoding(df['Destination'].to_numpy())]\n",
    "res = np.c_[res, df['Net Sales'], df['Commision (in value)']]\n",
    "res = np.c_[res, onehot_encoding(df['Gender'].to_numpy())]\n",
    "res = np.c_[np.ones(res.shape[0]), res] # единички\n",
    "res"
   ],
   "metadata": {
    "collapsed": false
   }
  },
  {
   "cell_type": "markdown",
   "metadata": {},
   "source": [
    "### Применение линейной регрессии (10 баллов)"
   ]
  },
  {
   "cell_type": "markdown",
   "metadata": {},
   "source": [
    "Это задача классификации, но её можно решить с помощью линейной регрессии, если округлять предсказанный ответ до целого и выбирать ближайший по значению ответ из множества {0, 1}.\n",
    "\n",
    "Вынесите признак 'Claim' в вектор ответов и разделите датасет на обучающую и тестовую выборку в соотношении 80 к 20. Зафиксируйте random_state.\n",
    "\n",
    "**Подсказка:** быстро перевести Yes/No в 1/0 можно так - np.where(df['Claim'] == 'Yes', 1,0)"
   ]
  },
  {
   "cell_type": "code",
   "execution_count": 706,
   "metadata": {},
   "outputs": [],
   "source": [
    "train_x, test_x, train_y, test_y = train_test_split(res, df['Claim'].to_numpy(), train_size=0.8, random_state=1)"
   ]
  },
  {
   "cell_type": "markdown",
   "metadata": {},
   "source": [
    "Найдите аналитическое решение для обучающей выборки: обычное и регуляризацией l2. "
   ]
  },
  {
   "cell_type": "code",
   "execution_count": 729,
   "metadata": {},
   "outputs": [],
   "source": [
    "# посчитайте аналитическое решение\n",
    "w = np.linalg.inv(train_x.T.dot(train_x)).dot(train_x.T).dot(train_y)"
   ]
  },
  {
   "cell_type": "code",
   "execution_count": 737,
   "metadata": {},
   "outputs": [],
   "source": [
    "# посчитать аналитическое решение с регуляризацией\n",
    "l = 1\n",
    "w_l2 = np.linalg.inv(train_x.T.dot(train_x) + l ** 2 * np.eye(train_x.shape[1], train_x.shape[1])).dot(train_x.T).dot(train_y)"
   ]
  },
  {
   "cell_type": "markdown",
   "metadata": {},
   "source": [
    "Постройте модель LinearRegression, примените к тестовой выборке и посчитайте MSE (можно использовать библиотеку sklearn)"
   ]
  },
  {
   "cell_type": "code",
   "execution_count": 727,
   "metadata": {},
   "outputs": [],
   "source": [
    "from sklearn.linear_model import LinearRegression\n",
    "\n",
    "# обучите модель линейной регрессии LinearRegression на обучающей выборке, примените к тестовой\n",
    "a = LinearRegression(fit_intercept=True)\n",
    "a.fit(train_x, train_y)"
   ]
  },
  {
   "cell_type": "code",
   "execution_count": 763,
   "metadata": {},
   "outputs": [
    {
     "name": "stdout",
     "output_type": "stream",
     "text": [
      "MSE (without regularization):\t 0.1537\n",
      "MSE (L2):\t\t\t\t\t\t 0.015\n",
      "MSE (sklearn):\t\t\t\t\t 0.014\n"
     ]
    }
   ],
   "source": [
    "# посчитайте MSE, предварительно округлив предсказанные ответы до целого\n",
    "\n",
    "pred_default = np.sum(test_x * w, axis=1).round(0)\n",
    "pred_l2 = np.sum(test_x * w_l2, axis=1).round(0)\n",
    "\n",
    "mse_default = mean_squared_error(test_y, pred_default)\n",
    "mse_l2 = mean_squared_error(test_y, pred_l2)\n",
    "mse_sk = mean_squared_error(test_y, a.predict(test_x))\n",
    "print('MSE (without regularization):\\t', round(mse_default, 4))\n",
    "print('MSE (L2):\\t\\t\\t\\t\\t\\t', round(mse_l2, 4))\n",
    "print('MSE (sklearn):\\t\\t\\t\\t\\t', round(mse_sk, 4))"
   ]
  },
  {
   "cell_type": "markdown",
   "metadata": {},
   "source": [
    "### Вывод (1 балла)"
   ]
  },
  {
   "cell_type": "markdown",
   "metadata": {},
   "source": [
    "Напишите краткий вывод по заданию (достаточно пары предложений). Расскажите, какие способы предобработки данных вы выбрали и почему. Насколько хороша ваша модель?"
   ]
  },
  {
   "cell_type": "markdown",
   "source": [
    "Вначале я обратил внимание на пропуски в столбце Gender. Я решил сделать NaN категорией, чтобы не терять много данныъ\n",
    "Потом я заметил выбросы в Duration и Commission и отбросил нелогичные значения Duration (< 0)\n",
    "Кроме того я оставил только популярные Agency и Destination категории\n",
    "\n",
    "Я заметил что моя default модель выдает значения вне диапазона [0;1], но я не знаю как это преобразовать/исправить"
   ],
   "metadata": {
    "collapsed": false
   }
  }
 ],
 "metadata": {
  "colab": {
   "name": "Untitled9.ipynb",
   "provenance": []
  },
  "kernelspec": {
   "display_name": "Python 3",
   "language": "python",
   "name": "python3"
  },
  "language_info": {
   "codemirror_mode": {
    "name": "ipython",
    "version": 3
   },
   "file_extension": ".py",
   "mimetype": "text/x-python",
   "name": "python",
   "nbconvert_exporter": "python",
   "pygments_lexer": "ipython3",
   "version": "3.8.5"
  }
 },
 "nbformat": 4,
 "nbformat_minor": 1
}
